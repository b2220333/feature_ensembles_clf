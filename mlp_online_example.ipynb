{
 "cells": [
  {
   "cell_type": "markdown",
   "metadata": {},
   "source": [
    "### Online Example - modified for CIFAR-10 dataset\n",
    "\n",
    "Github notebook: https://github.com/aayushmnit/Deep_learning_explorations/blob/master/1_MLP_from_scratch/Building_neural_network_from_scratch.ipynb\n",
    "\n",
    "Online blog: https://towardsdatascience.com/building-neural-network-from-scratch-9c88535bf8e9\n",
    "\n",
    "The two resources contain a lot more information about the implementation."
   ]
  },
  {
   "cell_type": "code",
   "execution_count": 1,
   "metadata": {},
   "outputs": [],
   "source": [
    "from __future__ import print_function\n",
    "import pickle\n",
    "import numpy as np ## For numerical python\n",
    "np.random.seed(42)"
   ]
  },
  {
   "cell_type": "code",
   "execution_count": 2,
   "metadata": {},
   "outputs": [],
   "source": [
    "class Layer:\n",
    "    \"\"\"\n",
    "    A building block. Each layer is capable of performing two things:\n",
    "\n",
    "    - Process input to get output:           output = layer.forward(input)\n",
    "    \n",
    "    - Propagate gradients through itself:    grad_input = layer.backward(input, grad_output)\n",
    "    \n",
    "    Some layers also have learnable parameters which they update during layer.backward.\n",
    "    \"\"\"\n",
    "    def __init__(self):\n",
    "        \"\"\"Here we can initialize layer parameters (if any) and auxiliary stuff.\"\"\"\n",
    "        # A dummy layer does nothing\n",
    "        pass\n",
    "    \n",
    "    def forward(self, input):\n",
    "        \"\"\"\n",
    "        Takes input data of shape [batch, input_units], returns output data [batch, output_units]\n",
    "        \"\"\"\n",
    "        # A dummy layer just returns whatever it gets as input.\n",
    "        return input\n",
    "\n",
    "    def backward(self, input, grad_output):\n",
    "        \"\"\"\n",
    "        Performs a backpropagation step through the layer, with respect to the given input.\n",
    "        \n",
    "        To compute loss gradients w.r.t input, we need to apply chain rule (backprop):\n",
    "        \n",
    "        d loss / d x  = (d loss / d layer) * (d layer / d x)\n",
    "        \n",
    "        Luckily, we already receive d loss / d layer as input, so you only need to multiply it by d layer / d x.\n",
    "        \n",
    "        If our layer has parameters (e.g. dense layer), we also need to update them here using d loss / d layer\n",
    "        \"\"\"\n",
    "        # The gradient of a dummy layer is precisely grad_output, but we'll write it more explicitly\n",
    "        num_units = input.shape[1]\n",
    "        \n",
    "        d_layer_d_input = np.eye(num_units)\n",
    "        \n",
    "        return np.dot(grad_output, d_layer_d_input) # chain rule"
   ]
  },
  {
   "cell_type": "code",
   "execution_count": 3,
   "metadata": {},
   "outputs": [],
   "source": [
    "class ReLU(Layer):\n",
    "    def __init__(self):\n",
    "        \"\"\"ReLU layer simply applies elementwise rectified linear unit to all inputs\"\"\"\n",
    "        pass\n",
    "    \n",
    "    def forward(self, input):\n",
    "        \"\"\"Apply elementwise ReLU to [batch, input_units] matrix\"\"\"\n",
    "        relu_forward = np.maximum(0,input)\n",
    "        return relu_forward\n",
    "    \n",
    "    def backward(self, input, grad_output):\n",
    "        \"\"\"Compute gradient of loss w.r.t. ReLU input\"\"\"\n",
    "        relu_grad = input > 0\n",
    "        return grad_output*relu_grad"
   ]
  },
  {
   "cell_type": "code",
   "execution_count": 4,
   "metadata": {},
   "outputs": [],
   "source": [
    "class Dense(Layer):\n",
    "    def __init__(self, input_units, output_units, learning_rate=0.1):\n",
    "        \"\"\"\n",
    "        A dense layer is a layer which performs a learned affine transformation:\n",
    "        f(x) = <W*x> + b\n",
    "        \"\"\"\n",
    "        self.learning_rate = learning_rate\n",
    "        self.weights = np.random.normal(loc=0.0, \n",
    "                                        scale = np.sqrt(2/(input_units+output_units)), \n",
    "                                        size = (input_units,output_units))\n",
    "        self.biases = np.zeros(output_units)\n",
    "        \n",
    "    def forward(self,input):\n",
    "        \"\"\"\n",
    "        Perform an affine transformation:\n",
    "        f(x) = <W*x> + b\n",
    "        \n",
    "        input shape: [batch, input_units]\n",
    "        output shape: [batch, output units]\n",
    "        \"\"\"\n",
    "        return np.dot(input,self.weights) + self.biases\n",
    "    \n",
    "    def backward(self,input,grad_output):\n",
    "        # compute d f / d x = d f / d dense * d dense / d x\n",
    "        # where d dense/ d x = weights transposed\n",
    "        grad_input = np.dot(grad_output, self.weights.T)\n",
    "        \n",
    "        # compute gradient w.r.t. weights and biases\n",
    "        grad_weights = np.dot(input.T, grad_output)\n",
    "        grad_biases = grad_output.mean(axis=0)*input.shape[0]\n",
    "        \n",
    "        assert grad_weights.shape == self.weights.shape and grad_biases.shape == self.biases.shape\n",
    "        \n",
    "        # Here we perform a stochastic gradient descent step. \n",
    "        self.weights = self.weights - self.learning_rate * grad_weights\n",
    "        self.biases = self.biases - self.learning_rate * grad_biases\n",
    "        \n",
    "        return grad_input"
   ]
  },
  {
   "cell_type": "code",
   "execution_count": 5,
   "metadata": {},
   "outputs": [],
   "source": [
    "def softmax_crossentropy_with_logits(logits,reference_answers):\n",
    "    \"\"\"Compute crossentropy from logits[batch,n_classes] and ids of correct answers\"\"\"\n",
    "    logits_for_answers = logits[np.arange(len(logits)),reference_answers]\n",
    "    \n",
    "    xentropy = - logits_for_answers + np.log(np.sum(np.exp(logits),axis=-1))\n",
    "    \n",
    "    return xentropy\n",
    "\n",
    "def grad_softmax_crossentropy_with_logits(logits,reference_answers):\n",
    "    \"\"\"Compute crossentropy gradient from logits[batch,n_classes] and ids of correct answers\"\"\"\n",
    "    ones_for_answers = np.zeros_like(logits)\n",
    "    ones_for_answers[np.arange(len(logits)),reference_answers] = 1\n",
    "    \n",
    "    softmax = np.exp(logits) / np.exp(logits).sum(axis=-1,keepdims=True)\n",
    "    \n",
    "    return (- ones_for_answers + softmax) / logits.shape[0]"
   ]
  },
  {
   "cell_type": "markdown",
   "metadata": {},
   "source": [
    "#### 3 methods for loading data\n",
    "1. original method shown in blog, uses MNIST dataset loaded with Keras, note that Keras is only used for loading the MNIST dataset\n",
    "2. loading CIFAR dataset and converting to grayscale, accuracy on testing dataset (denoted as val) was 40% which is above chance (10%) but still poor\n",
    "3. subsetting to only airplane and dog classes\n",
    "\n",
    "Note that 1 and 2 are commented out. If swicthing to it then change the last layer value to 10 instead of 2."
   ]
  },
  {
   "cell_type": "code",
   "execution_count": null,
   "metadata": {},
   "outputs": [],
   "source": [
    "############## 1) MNIST\n",
    "# import keras\n",
    "# import matplotlib.pyplot as plt\n",
    "# %matplotlib inline\n",
    "\n",
    "# def load_dataset(flatten=False):\n",
    "#     (X_train, y_train), (X_test, y_test) = keras.datasets.mnist.load_data()\n",
    "\n",
    "#     # normalize x\n",
    "#     X_train = X_train.astype(float) / 255.\n",
    "#     X_test = X_test.astype(float) / 255.\n",
    "\n",
    "#     # we reserve the last 10000 training examples for validation\n",
    "#     X_train, X_val = X_train[:-10000], X_train[-10000:]\n",
    "#     y_train, y_val = y_train[:-10000], y_train[-10000:]\n",
    "\n",
    "#     if flatten:\n",
    "#         X_train = X_train.reshape([X_train.shape[0], -1])\n",
    "#         X_val = X_val.reshape([X_val.shape[0], -1])\n",
    "#         X_test = X_test.reshape([X_test.shape[0], -1])\n",
    "\n",
    "#     return X_train, y_train, X_val, y_val, X_test, y_test\n",
    "\n",
    "# X_train, y_train, X_val, y_val, X_test, y_test = load_dataset(flatten=True)\n",
    "\n",
    "# ## Let's look at some example\n",
    "# plt.figure(figsize=[6,6])\n",
    "# for i in range(4):\n",
    "#     plt.subplot(2,2,i+1)\n",
    "#     plt.title(\"Label: %i\"%y_train[i])\n",
    "#     plt.imshow(X_train[i].reshape([28,28]),cmap='gray');"
   ]
  },
  {
   "cell_type": "code",
   "execution_count": 55,
   "metadata": {},
   "outputs": [],
   "source": [
    "######################## 2. 10 CIFAR dataset\n",
    "# # read the images and labels and gray scale images\n",
    "# import matplotlib.pyplot as plt\n",
    "# %matplotlib inline\n",
    "# import cv2\n",
    "# import pandas as pd\n",
    "# train_data = pd.read_csv('CIFAR10_Data/train.csv')\n",
    "# val_data = pd.read_csv('CIFAR10_Data/test.csv')\n",
    "    \n",
    "# train_ims = np.load('CIFAR10_Data/train.npy')\n",
    "# val_ims = np.load('CIFAR10_Data/test.npy')\n",
    "\n",
    "# temp = np.zeros(train_ims.shape[:-1], dtype=np.uint8)\n",
    "# for i in range(temp.shape[0]):\n",
    "#     temp[i, :, :] = cv2.cvtColor(train_ims[i] ,cv2.COLOR_RGB2GRAY)\n",
    "# train_ims = temp\n",
    "\n",
    "# temp = np.zeros(val_ims.shape[:-1], dtype=np.uint8)\n",
    "# for i in range(temp.shape[0]):\n",
    "#     temp[i, :, :] = cv2.cvtColor(val_ims[i] ,cv2.COLOR_RGB2GRAY)\n",
    "# val_ims = temp\n",
    "\n",
    "\n",
    "# def load_dataset(flatten=False):\n",
    "#     # read the data \n",
    "#     X_train, y_train = train_ims, np.array(train_data['label'])\n",
    "#     X_val, y_val = val_ims, np.array(val_data['label'])\n",
    "#     # normalize x\n",
    "#     X_train = X_train.astype(float) / 255.\n",
    "#     X_val = X_val.astype(float) / 255.\n",
    "\n",
    "#     if flatten:\n",
    "#         X_train = X_train.reshape([X_train.shape[0], -1])\n",
    "#         X_val = X_val.reshape([X_val.shape[0], -1])\n",
    "\n",
    "#     return X_train, y_train, X_val, y_val\n",
    "\n",
    "# X_train, y_train, X_val, y_val = load_dataset(flatten=True)\n",
    "\n",
    "# ## Let's look at some example\n",
    "# plt.figure(figsize=[6,6])\n",
    "# for i in range(4):\n",
    "#     plt.subplot(2,2,i+1)\n",
    "#     plt.title(\"Label: %i\"%y_train[i])\n",
    "#     plt.imshow(X_train[i].reshape([32,32]),cmap='gray');"
   ]
  },
  {
   "cell_type": "code",
   "execution_count": 46,
   "metadata": {},
   "outputs": [
    {
     "data": {
      "image/png": "[encoded data removed]",
      "text/plain": [
       "<Figure size 432x432 with 4 Axes>"
      ]
     },
     "metadata": {
      "needs_background": "light"
     },
     "output_type": "display_data"
    }
   ],
   "source": [
    "################### 3. 2 class CIFAR\n",
    "# read the images and labels and gray scale images\n",
    "import matplotlib.pyplot as plt\n",
    "%matplotlib inline\n",
    "import cv2\n",
    "import pandas as pd\n",
    "train_data = pd.read_csv('CIFAR10_Data/train.csv')\n",
    "val_data = pd.read_csv('CIFAR10_Data/test.csv')\n",
    "    \n",
    "train_ims = np.load('CIFAR10_Data/train.npy')\n",
    "val_ims = np.load('CIFAR10_Data/test.npy')\n",
    "\n",
    "# only get label 0 and 5\n",
    "\n",
    "temp = np.zeros((10000, 32, 32), dtype=np.uint8)\n",
    "count = 0\n",
    "y_train = []\n",
    "for i in range(train_ims.shape[0]):\n",
    "    if train_data.loc[i, 'label'] == 0:\n",
    "        y_train.append(0)\n",
    "    elif train_data.loc[i, 'label'] == 5:\n",
    "        y_train.append(1)\n",
    "    else:\n",
    "        continue\n",
    "    temp[count, :, :] = cv2.cvtColor(train_ims[i] ,cv2.COLOR_RGB2GRAY)\n",
    "    count += 1\n",
    "train_ims = temp\n",
    "\n",
    "temp = np.zeros((2000, 32, 32), dtype=np.uint8)\n",
    "count = 0\n",
    "y_val = []\n",
    "for i in range(val_ims.shape[0]):\n",
    "    if val_data.loc[i, 'label'] == 0:\n",
    "        y_val.append(0)\n",
    "    elif val_data.loc[i, 'label'] == 5:\n",
    "        y_val.append(1)\n",
    "    else:\n",
    "        continue\n",
    "    temp[count, :, :] = cv2.cvtColor(val_ims[i] ,cv2.COLOR_RGB2GRAY)\n",
    "    count += 1\n",
    "val_ims = temp\n",
    "\n",
    "\n",
    "# read the data \n",
    "X_train, y_train = train_ims, np.array(y_train)\n",
    "X_val, y_val = val_ims, np.array(y_val)\n",
    "# normalize x\n",
    "X_train = X_train.astype(float) / 255.\n",
    "X_val = X_val.astype(float) / 255.\n",
    "\n",
    "X_train = X_train.reshape([X_train.shape[0], -1])\n",
    "X_val = X_val.reshape([X_val.shape[0], -1])\n",
    "\n",
    "\n",
    "## Let's look at some example\n",
    "plt.figure(figsize=[6,6])\n",
    "for i in range(4):\n",
    "    plt.subplot(2,2,i+1)\n",
    "    plt.title(\"Label: %i\"%y_train[i])\n",
    "    plt.imshow(X_train[i].reshape([32,32]),cmap='gray');"
   ]
  },
  {
   "cell_type": "code",
   "execution_count": 47,
   "metadata": {},
   "outputs": [],
   "source": [
    "network = []\n",
    "network.append(Dense(X_train.shape[1],100))\n",
    "network.append(ReLU())\n",
    "network.append(Dense(100,200))\n",
    "network.append(ReLU())\n",
    "network.append(Dense(200,2))"
   ]
  },
  {
   "cell_type": "code",
   "execution_count": 48,
   "metadata": {},
   "outputs": [],
   "source": [
    "def forward(network, X):\n",
    "    \"\"\"\n",
    "    Compute activations of all network layers by applying them sequentially.\n",
    "    Return a list of activations for each layer. \n",
    "    \"\"\"\n",
    "    activations = []\n",
    "    input = X\n",
    "\n",
    "    # Looping through each layer\n",
    "    for l in network:\n",
    "        activations.append(l.forward(input))\n",
    "        # Updating input to last layer output\n",
    "        input = activations[-1]\n",
    "    \n",
    "    assert len(activations) == len(network)\n",
    "    return activations\n",
    "\n",
    "def predict(network,X):\n",
    "    \"\"\"\n",
    "    Compute network predictions. Returning indices of largest Logit probability\n",
    "    \"\"\"\n",
    "    logits = forward(network,X)[-1]\n",
    "    return logits.argmax(axis=-1)\n",
    "\n",
    "def train(network,X,y):\n",
    "    \"\"\"\n",
    "    Train our network on a given batch of X and y.\n",
    "    We first need to run forward to get all layer activations.\n",
    "    Then we can run layer.backward going from last to first layer.\n",
    "    After we have called backward for all layers, all Dense layers have already made one gradient step.\n",
    "    \"\"\"\n",
    "    \n",
    "    # Get the layer activations\n",
    "    layer_activations = forward(network,X)\n",
    "    layer_inputs = [X]+layer_activations  #layer_input[i] is an input for network[i]\n",
    "    logits = layer_activations[-1]\n",
    "    \n",
    "    # Compute the loss and the initial gradient\n",
    "    loss = softmax_crossentropy_with_logits(logits,y)\n",
    "    loss_grad = grad_softmax_crossentropy_with_logits(logits,y)\n",
    "    \n",
    "    # Propagate gradients through the network\n",
    "    # Reverse propogation as this is backprop\n",
    "    for layer_index in range(len(network))[::-1]:\n",
    "        layer = network[layer_index]\n",
    "        \n",
    "        loss_grad = layer.backward(layer_inputs[layer_index],loss_grad) #grad w.r.t. input, also weight updates\n",
    "        \n",
    "    return np.mean(loss)"
   ]
  },
  {
   "cell_type": "code",
   "execution_count": 49,
   "metadata": {},
   "outputs": [],
   "source": [
    "from tqdm import trange\n",
    "def iterate_minibatches(inputs, targets, batchsize, shuffle=False):\n",
    "    assert len(inputs) == len(targets)\n",
    "    if shuffle:\n",
    "        indices = np.random.permutation(len(inputs))\n",
    "    for start_idx in trange(0, len(inputs) - batchsize + 1, batchsize):\n",
    "        if shuffle:\n",
    "            excerpt = indices[start_idx:start_idx + batchsize]\n",
    "        else:\n",
    "            excerpt = slice(start_idx, start_idx + batchsize)\n",
    "        yield inputs[excerpt], targets[excerpt]"
   ]
  },
  {
   "cell_type": "code",
   "execution_count": 50,
   "metadata": {},
   "outputs": [],
   "source": [
    "from IPython.display import clear_output\n",
    "train_log = []\n",
    "val_log = []"
   ]
  },
  {
   "cell_type": "code",
   "execution_count": 52,
   "metadata": {},
   "outputs": [
    {
     "name": "stdout",
     "output_type": "stream",
     "text": [
      "Epoch 99\n",
      "Train accuracy: 0.9745\n",
      "Val accuracy: 0.8455\n"
     ]
    },
    {
     "data": {
      "image/png": "[encoded data removed]",
      "text/plain": [
       "<Figure size 432x288 with 1 Axes>"
      ]
     },
     "metadata": {
      "needs_background": "light"
     },
     "output_type": "display_data"
    }
   ],
   "source": [
    "for epoch in range(100):\n",
    "\n",
    "    for x_batch,y_batch in iterate_minibatches(X_train,y_train,batchsize=32,shuffle=True):\n",
    "        train(network,x_batch,y_batch)\n",
    "    \n",
    "    train_log.append(np.mean(predict(network,X_train)==y_train))\n",
    "    val_log.append(np.mean(predict(network,X_val)==y_val))\n",
    "    \n",
    "    clear_output()\n",
    "    print(\"Epoch\",epoch)\n",
    "    print(\"Train accuracy:\",train_log[-1])\n",
    "    print(\"Val accuracy:\",val_log[-1])\n",
    "    plt.plot(train_log,label='train accuracy')\n",
    "    plt.plot(val_log,label='val accuracy')\n",
    "    plt.legend(loc='best')\n",
    "    plt.grid()\n",
    "    plt.show()"
   ]
  },
  {
   "cell_type": "markdown",
   "metadata": {},
   "source": [
    "### Sanity check with Sklearn MLP"
   ]
  },
  {
   "cell_type": "code",
   "execution_count": 54,
   "metadata": {},
   "outputs": [
    {
     "data": {
      "text/plain": [
       "0.8345"
      ]
     },
     "execution_count": 54,
     "metadata": {},
     "output_type": "execute_result"
    }
   ],
   "source": [
    "from sklearn.neural_network import MLPClassifier\n",
    "\n",
    "clf = MLPClassifier(solver='lbfgs', alpha=1e-5, random_state=1)\n",
    "clf.fit(X_train, y_train)\n",
    "clf.score(X_val, y_val)"
   ]
  }
 ],
 "metadata": {
  "kernelspec": {
   "display_name": "Python 3",
   "language": "python",
   "name": "python3"
  },
  "language_info": {
   "codemirror_mode": {
    "name": "ipython",
    "version": 3
   },
   "file_extension": ".py",
   "mimetype": "text/x-python",
   "name": "python",
   "nbconvert_exporter": "python",
   "pygments_lexer": "ipython3",
   "version": "3.7.5"
  }
 },
 "nbformat": 4,
 "nbformat_minor": 2
}
