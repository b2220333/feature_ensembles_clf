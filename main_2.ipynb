{
 "cells": [
  {
   "cell_type": "markdown",
   "metadata": {},
   "source": [
    "### Notebook version of main.py"
   ]
  },
  {
   "cell_type": "code",
   "execution_count": null,
   "metadata": {
    "scrolled": true
   },
   "outputs": [],
   "source": [
    "%reset -f\n",
    "# restarts everything so it works as standard main.py\n",
    "\n",
    "from scripts import load_cifar10, train_vgg16\n",
    "from time import time\n",
    "\n",
    "# train and test dir will be saved in DATA_DIR - if already there then it will not reload\n",
    "DATA_DIR = '/opt/data/'\n",
    "TRAIN = True\n",
    "\n",
    "# key word arguments for model training\n",
    "kwargs = dict(\n",
    "    batch_size=128, epochs=250, learning_rate=0.001, momentum=0.9, image_shape=(32, 32, 3),\n",
    "    lr_decay=1e-6, lr_drop=20, extra_aug=False, paper_layers=True, all_frozen=False, decay=False,\n",
    "    allTrainable=True\n",
    ")\n",
    "\n",
    "\n",
    "if __name__ == '__main__':\n",
    "    # load CIFAR10 data\n",
    "    # load_cifar10.run(save_dir=DATA_DIR)\n",
    "\n",
    "    # train vgg16 model\n",
    "    if TRAIN:\n",
    "        model = train_vgg16.run(data_dir=DATA_DIR, **kwargs)\n",
    "\n",
    "\n",
    "    # model_train.run()\n",
    "\n",
    "    # run model testing\n",
    "\n",
    "    # run plotting results"
   ]
  },
  {
   "cell_type": "code",
   "execution_count": null,
   "metadata": {},
   "outputs": [],
   "source": [
    "import numpy as np\n",
    "val_acc = model.history.history['val_acc']\n",
    "print(np.max(val_acc))\n",
    "# resultsDict[\"val_score\"] = np.mean(resultsDict[\"history\"][\"val_acc\"][-10:])\n",
    "# resultsDict[\"val_std\"] = np.std(resultsDict[\"history\"][\"val_acc\"][-10:])"
   ]
  },
  {
   "cell_type": "code",
   "execution_count": null,
   "metadata": {},
   "outputs": [],
   "source": [
    "# if rerunning fresh - run this to install missing dependencies\n",
    "!pip install imageio --user"
   ]
  },
  {
   "cell_type": "code",
   "execution_count": null,
   "metadata": {},
   "outputs": [],
   "source": [
    "resultsDict['history'].__dict__"
   ]
  }
 ],
 "metadata": {
  "kernelspec": {
   "display_name": "Python 3",
   "language": "python",
   "name": "python3"
  },
  "language_info": {
   "codemirror_mode": {
    "name": "ipython",
    "version": 3
   },
   "file_extension": ".py",
   "mimetype": "text/x-python",
   "name": "python",
   "nbconvert_exporter": "python",
   "pygments_lexer": "ipython3",
   "version": "3.5.2"
  }
 },
 "nbformat": 4,
 "nbformat_minor": 2
}
