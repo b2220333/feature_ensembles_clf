{
 "cells": [
  {
   "cell_type": "markdown",
   "metadata": {},
   "source": [
    "### Notebook version of main.py"
   ]
  },
  {
   "cell_type": "code",
   "execution_count": null,
   "metadata": {
    "scrolled": true
   },
   "outputs": [],
   "source": [
    "from scripts import load_cifar10, train_vgg16, test_vgg16, fcnn_test, hog_features, flatten_features\n",
    "from scripts import vgg16_features, pca_features\n",
    "\n",
    "# train and test dir will be saved in DATA_DIR - if already there then it will not reload\n",
    "DATA_DIR = '/opt/data/'\n",
    "\n",
    "# key word arguments for model training\n",
    "kwargs = dict(\n",
    "    batch_size=128, \n",
    "    epochs=250, \n",
    "    learning_rate=0.0001, \n",
    "    momentum=0.9, \n",
    "    image_shape=(32, 32, 3),\n",
    "    lr_decay=1e-6, \n",
    "    lr_drop=20, \n",
    "    extra_aug=True, \n",
    "    paper_layers=True, \n",
    "    all_frozen=False, \n",
    "    decay=False,\n",
    "    allTrainable=True, \n",
    "    model_name='VGG16_lr_0.0001_mom_0.9_xaug_False_gitLayers_True_allFrozen_False_decay_False_allTrain_True.h5'\n",
    ")\n",
    "\n",
    "LABELS = ['airplane', 'automobile', 'bird', 'cat', 'deer', 'dog', 'frog', 'horse', 'ship', 'truck']\n",
    "FEATURES = 'pca'  # options: HOG, vgg16, flatten, or pca\n",
    "\n",
    "# ----------------------------------------------------------------------------------------------------- #\n",
    "# ----------------------------------------------------------------------------------------------------- #\n",
    "\n",
    "if __name__ == '__main__':\n",
    "    # load CIFAR10 data\n",
    "    # load_cifar10.run(save_dir=DATA_DIR)\n",
    "\n",
    "    # train vgg16 model\n",
    "    # train_vgg16.run(data_dir=DATA_DIR, **kwargs)\n",
    "    \n",
    "    # test vgg16 model\n",
    "    # test_vgg16.run(DATA_DIR, LABELS, **kwargs)\n",
    "    \n",
    "    # extract vgg16 features\n",
    "    # vgg16_features.run(DATA_DIR, LABELS, **kwargs)\n",
    "\n",
    "    # extract histogram of oriented gradient features\n",
    "    # hog_features.run(DATA_DIR, LABELS)\n",
    "\n",
    "    # extract flatten pixel features\n",
    "    # flatten_features.run(DATA_DIR, LABELS)\n",
    "\n",
    "    # run FCNN tests - FEATURES determines the features to use FCNN on: options are HOG, vgg16 or flatten\n",
    "    output = fcnn_test.run(DATA_DIR, LABELS, FEATURES)\n",
    "    print(max(output.history['val_acc']))\n",
    "    \n",
    "    # run Lasso regression for feature selection on the combination of flatten, HOG, and VGG16 features\n",
    "    # pca_features.run(DATA_DIR)"
   ]
  },
  {
   "cell_type": "code",
   "execution_count": null,
   "metadata": {},
   "outputs": [],
   "source": [
    "# if rerunning fresh - run this to install missing dependencies\n",
    "# !pip install imageio --user\n",
    "# !pip install scikit-image --user\n",
    "# !pip install tqdm --user"
   ]
  }
 ],
 "metadata": {
  "kernelspec": {
   "display_name": "Python 3",
   "language": "python",
   "name": "python3"
  },
  "language_info": {
   "codemirror_mode": {
    "name": "ipython",
    "version": 3
   },
   "file_extension": ".py",
   "mimetype": "text/x-python",
   "name": "python",
   "nbconvert_exporter": "python",
   "pygments_lexer": "ipython3",
   "version": "3.5.2"
  }
 },
 "nbformat": 4,
 "nbformat_minor": 2
}
