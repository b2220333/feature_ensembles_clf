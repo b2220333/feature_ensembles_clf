{
 "cells": [
  {
   "cell_type": "markdown",
   "metadata": {},
   "source": [
    "### Notebook version of main.py"
   ]
  },
  {
   "cell_type": "code",
   "execution_count": 4,
   "metadata": {
    "scrolled": true
   },
   "outputs": [
    {
     "name": "stdout",
     "output_type": "stream",
     "text": [
      "Train on 50000 samples, validate on 10000 samples\n",
      "Epoch 1/150\n",
      "49536/50000 [============================>.] - ETA: 0s - loss: 2.3316 - acc: 0.1007\n",
      "Epoch 00001: val_acc improved from -inf to 0.10030, saving model to models/FCNN_resnet2.h5\n",
      "50000/50000 [==============================] - 13s 264us/step - loss: 2.3314 - acc: 0.1007 - val_loss: 2.3026 - val_acc: 0.1003\n",
      "Epoch 2/150\n",
      "49792/50000 [============================>.] - ETA: 0s - loss: 2.3026 - acc: 0.0990\n",
      "Epoch 00002: val_acc improved from 0.10030 to 0.10070, saving model to models/FCNN_resnet2.h5\n",
      "50000/50000 [==============================] - 4s 85us/step - loss: 2.3026 - acc: 0.0989 - val_loss: 2.3026 - val_acc: 0.1007\n",
      "Epoch 3/150\n",
      "49280/50000 [============================>.] - ETA: 0s - loss: 2.3026 - acc: 0.0994\n",
      "Epoch 00003: val_acc did not improve from 0.10070\n",
      "50000/50000 [==============================] - 4s 75us/step - loss: 2.3026 - acc: 0.0994 - val_loss: 2.3026 - val_acc: 0.1000\n",
      "Epoch 4/150\n",
      "49280/50000 [============================>.] - ETA: 0s - loss: 2.3026 - acc: 0.0973\n",
      "Epoch 00004: val_acc did not improve from 0.10070\n",
      "50000/50000 [==============================] - 4s 77us/step - loss: 2.3026 - acc: 0.0970 - val_loss: 2.3026 - val_acc: 0.1001\n",
      "Epoch 5/150\n",
      "49664/50000 [============================>.] - ETA: 0s - loss: 2.3026 - acc: 0.0979\n",
      "Epoch 00005: val_acc did not improve from 0.10070\n",
      "50000/50000 [==============================] - 4s 74us/step - loss: 2.3026 - acc: 0.0980 - val_loss: 2.3025 - val_acc: 0.0992\n",
      "Epoch 6/150\n",
      "49664/50000 [============================>.] - ETA: 0s - loss: 2.3026 - acc: 0.1006\n",
      "Epoch 00006: val_acc improved from 0.10070 to 0.10090, saving model to models/FCNN_resnet2.h5\n",
      "50000/50000 [==============================] - 4s 87us/step - loss: 2.3026 - acc: 0.1004 - val_loss: 2.3026 - val_acc: 0.1009\n",
      "Epoch 7/150\n",
      "49536/50000 [============================>.] - ETA: 0s - loss: 2.3026 - acc: 0.0988\n",
      "Epoch 00007: val_acc did not improve from 0.10090\n",
      "50000/50000 [==============================] - 4s 79us/step - loss: 2.3026 - acc: 0.0988 - val_loss: 2.3026 - val_acc: 0.1000\n",
      "Epoch 8/150\n",
      "49280/50000 [============================>.] - ETA: 0s - loss: 2.3026 - acc: 0.0984\n",
      "Epoch 00008: val_acc did not improve from 0.10090\n",
      "50000/50000 [==============================] - 4s 85us/step - loss: 2.3026 - acc: 0.0984 - val_loss: 2.3026 - val_acc: 0.1003\n",
      "Epoch 9/150\n",
      "49408/50000 [============================>.] - ETA: 0s - loss: 2.3026 - acc: 0.0977\n",
      "Epoch 00009: val_acc did not improve from 0.10090\n",
      "50000/50000 [==============================] - 4s 85us/step - loss: 2.3026 - acc: 0.0976 - val_loss: 2.3026 - val_acc: 0.1001\n",
      "Epoch 10/150\n",
      "49408/50000 [============================>.] - ETA: 0s - loss: 2.3026 - acc: 0.0935\n",
      "Epoch 00010: val_acc did not improve from 0.10090\n",
      "50000/50000 [==============================] - 4s 81us/step - loss: 2.3026 - acc: 0.0935 - val_loss: 2.3026 - val_acc: 0.1000\n",
      "Epoch 11/150\n",
      "49664/50000 [============================>.] - ETA: 0s - loss: 2.3026 - acc: 0.0958\n",
      "Epoch 00011: val_acc did not improve from 0.10090\n",
      "50000/50000 [==============================] - 4s 78us/step - loss: 2.3026 - acc: 0.0958 - val_loss: 2.3026 - val_acc: 0.1001\n",
      "Epoch 12/150\n",
      "49536/50000 [============================>.] - ETA: 0s - loss: 2.3026 - acc: 0.0958\n",
      "Epoch 00012: val_acc did not improve from 0.10090\n",
      "50000/50000 [==============================] - 4s 80us/step - loss: 2.3026 - acc: 0.0957 - val_loss: 2.3026 - val_acc: 0.1001\n",
      "Epoch 13/150\n",
      "49792/50000 [============================>.] - ETA: 0s - loss: 2.3026 - acc: 0.0980\n",
      "Epoch 00013: val_acc did not improve from 0.10090\n",
      "50000/50000 [==============================] - 4s 83us/step - loss: 2.3026 - acc: 0.0979 - val_loss: 2.3026 - val_acc: 0.1001\n",
      "Epoch 14/150\n",
      "49920/50000 [============================>.] - ETA: 0s - loss: 2.3026 - acc: 0.0978\n",
      "Epoch 00014: val_acc improved from 0.10090 to 0.10160, saving model to models/FCNN_resnet2.h5\n",
      "50000/50000 [==============================] - 4s 83us/step - loss: 2.3026 - acc: 0.0978 - val_loss: 2.3026 - val_acc: 0.1016\n",
      "Epoch 15/150\n",
      "49792/50000 [============================>.] - ETA: 0s - loss: 2.3026 - acc: 0.0990\n",
      "Epoch 00015: val_acc did not improve from 0.10160\n",
      "50000/50000 [==============================] - 4s 85us/step - loss: 2.3026 - acc: 0.0991 - val_loss: 2.3026 - val_acc: 0.1000\n",
      "Epoch 16/150\n",
      "49408/50000 [============================>.] - ETA: 0s - loss: 2.3026 - acc: 0.0955\n",
      "Epoch 00016: val_acc did not improve from 0.10160\n",
      "50000/50000 [==============================] - 4s 81us/step - loss: 2.3026 - acc: 0.0953 - val_loss: 2.3026 - val_acc: 0.1000\n",
      "Epoch 17/150\n",
      "49920/50000 [============================>.] - ETA: 0s - loss: 2.3025 - acc: 0.0989\n",
      "Epoch 00017: val_acc did not improve from 0.10160\n",
      "50000/50000 [==============================] - 4s 86us/step - loss: 2.3025 - acc: 0.0989 - val_loss: 2.3026 - val_acc: 0.1000\n",
      "Epoch 18/150\n",
      "41216/50000 [=======================>......] - ETA: 0s - loss: 2.3026 - acc: 0.0999"
     ]
    },
    {
     "ename": "KeyboardInterrupt",
     "evalue": "",
     "output_type": "error",
     "traceback": [
      "\u001b[0;31m---------------------------------------------------------------------------\u001b[0m",
      "\u001b[0;31mKeyboardInterrupt\u001b[0m                         Traceback (most recent call last)",
      "\u001b[0;32m<ipython-input-4-dc4370bfc4a7>\u001b[0m in \u001b[0;36m<module>\u001b[0;34m\u001b[0m\n\u001b[1;32m     48\u001b[0m \u001b[0;34m\u001b[0m\u001b[0m\n\u001b[1;32m     49\u001b[0m     \u001b[0;31m# run FCNN tests - FEATURES determines the features to use FCNN on: options are HOG, vgg16 or flatten\u001b[0m\u001b[0;34m\u001b[0m\u001b[0;34m\u001b[0m\u001b[0m\n\u001b[0;32m---> 50\u001b[0;31m     \u001b[0moutput\u001b[0m \u001b[0;34m=\u001b[0m \u001b[0mfcnn_test\u001b[0m\u001b[0;34m.\u001b[0m\u001b[0mrun\u001b[0m\u001b[0;34m(\u001b[0m\u001b[0mDATA_DIR\u001b[0m\u001b[0;34m,\u001b[0m \u001b[0mLABELS\u001b[0m\u001b[0;34m,\u001b[0m \u001b[0mFEATURES\u001b[0m\u001b[0;34m)\u001b[0m\u001b[0;34m\u001b[0m\u001b[0m\n\u001b[0m\u001b[1;32m     51\u001b[0m     \u001b[0mprint\u001b[0m\u001b[0;34m(\u001b[0m\u001b[0mmax\u001b[0m\u001b[0;34m(\u001b[0m\u001b[0moutput\u001b[0m\u001b[0;34m.\u001b[0m\u001b[0mhistory\u001b[0m\u001b[0;34m[\u001b[0m\u001b[0;34m'val_acc'\u001b[0m\u001b[0;34m]\u001b[0m\u001b[0;34m)\u001b[0m\u001b[0;34m)\u001b[0m\u001b[0;34m\u001b[0m\u001b[0m\n\u001b[1;32m     52\u001b[0m \u001b[0;34m\u001b[0m\u001b[0m\n",
      "\u001b[0;32m/opt/scripts/fcnn_test.py\u001b[0m in \u001b[0;36mrun\u001b[0;34m(data_dir, labels, feature_type)\u001b[0m\n\u001b[1;32m     55\u001b[0m \u001b[0;34m\u001b[0m\u001b[0m\n\u001b[1;32m     56\u001b[0m     history = model.fit(x_train, y_train, epochs=150, batch_size=128, validation_data=(x_test, y_test),\n\u001b[0;32m---> 57\u001b[0;31m              callbacks=[checkpoint, early])\n\u001b[0m\u001b[1;32m     58\u001b[0m     \u001b[0;32mreturn\u001b[0m \u001b[0mhistory\u001b[0m\u001b[0;34m\u001b[0m\u001b[0m\n\u001b[1;32m     59\u001b[0m \u001b[0;34m\u001b[0m\u001b[0m\n",
      "\u001b[0;32m/usr/local/lib/python3.5/dist-packages/tensorflow/python/keras/engine/training.py\u001b[0m in \u001b[0;36mfit\u001b[0;34m(self, x, y, batch_size, epochs, verbose, callbacks, validation_split, validation_data, shuffle, class_weight, sample_weight, initial_epoch, steps_per_epoch, validation_steps, max_queue_size, workers, use_multiprocessing, **kwargs)\u001b[0m\n\u001b[1;32m   1637\u001b[0m           \u001b[0minitial_epoch\u001b[0m\u001b[0;34m=\u001b[0m\u001b[0minitial_epoch\u001b[0m\u001b[0;34m,\u001b[0m\u001b[0;34m\u001b[0m\u001b[0m\n\u001b[1;32m   1638\u001b[0m           \u001b[0msteps_per_epoch\u001b[0m\u001b[0;34m=\u001b[0m\u001b[0msteps_per_epoch\u001b[0m\u001b[0;34m,\u001b[0m\u001b[0;34m\u001b[0m\u001b[0m\n\u001b[0;32m-> 1639\u001b[0;31m           validation_steps=validation_steps)\n\u001b[0m\u001b[1;32m   1640\u001b[0m \u001b[0;34m\u001b[0m\u001b[0m\n\u001b[1;32m   1641\u001b[0m   def evaluate(self,\n",
      "\u001b[0;32m/usr/local/lib/python3.5/dist-packages/tensorflow/python/keras/engine/training_arrays.py\u001b[0m in \u001b[0;36mfit_loop\u001b[0;34m(model, inputs, targets, sample_weights, batch_size, epochs, verbose, callbacks, val_inputs, val_targets, val_sample_weights, shuffle, initial_epoch, steps_per_epoch, validation_steps)\u001b[0m\n\u001b[1;32m    213\u001b[0m           \u001b[0mins_batch\u001b[0m\u001b[0;34m[\u001b[0m\u001b[0mi\u001b[0m\u001b[0;34m]\u001b[0m \u001b[0;34m=\u001b[0m \u001b[0mins_batch\u001b[0m\u001b[0;34m[\u001b[0m\u001b[0mi\u001b[0m\u001b[0;34m]\u001b[0m\u001b[0;34m.\u001b[0m\u001b[0mtoarray\u001b[0m\u001b[0;34m(\u001b[0m\u001b[0;34m)\u001b[0m\u001b[0;34m\u001b[0m\u001b[0m\n\u001b[1;32m    214\u001b[0m \u001b[0;34m\u001b[0m\u001b[0m\n\u001b[0;32m--> 215\u001b[0;31m         \u001b[0mouts\u001b[0m \u001b[0;34m=\u001b[0m \u001b[0mf\u001b[0m\u001b[0;34m(\u001b[0m\u001b[0mins_batch\u001b[0m\u001b[0;34m)\u001b[0m\u001b[0;34m\u001b[0m\u001b[0m\n\u001b[0m\u001b[1;32m    216\u001b[0m         \u001b[0;32mif\u001b[0m \u001b[0;32mnot\u001b[0m \u001b[0misinstance\u001b[0m\u001b[0;34m(\u001b[0m\u001b[0mouts\u001b[0m\u001b[0;34m,\u001b[0m \u001b[0mlist\u001b[0m\u001b[0;34m)\u001b[0m\u001b[0;34m:\u001b[0m\u001b[0;34m\u001b[0m\u001b[0m\n\u001b[1;32m    217\u001b[0m           \u001b[0mouts\u001b[0m \u001b[0;34m=\u001b[0m \u001b[0;34m[\u001b[0m\u001b[0mouts\u001b[0m\u001b[0;34m]\u001b[0m\u001b[0;34m\u001b[0m\u001b[0m\n",
      "\u001b[0;32m/usr/local/lib/python3.5/dist-packages/tensorflow/python/keras/backend.py\u001b[0m in \u001b[0;36m__call__\u001b[0;34m(self, inputs)\u001b[0m\n\u001b[1;32m   2945\u001b[0m       \u001b[0;32mraise\u001b[0m \u001b[0mTypeError\u001b[0m\u001b[0;34m(\u001b[0m\u001b[0;34m'`inputs` should be a list or tuple.'\u001b[0m\u001b[0;34m)\u001b[0m\u001b[0;34m\u001b[0m\u001b[0m\n\u001b[1;32m   2946\u001b[0m \u001b[0;34m\u001b[0m\u001b[0m\n\u001b[0;32m-> 2947\u001b[0;31m     \u001b[0msession\u001b[0m \u001b[0;34m=\u001b[0m \u001b[0mget_session\u001b[0m\u001b[0;34m(\u001b[0m\u001b[0;34m)\u001b[0m\u001b[0;34m\u001b[0m\u001b[0m\n\u001b[0m\u001b[1;32m   2948\u001b[0m     \u001b[0mfeed_arrays\u001b[0m \u001b[0;34m=\u001b[0m \u001b[0;34m[\u001b[0m\u001b[0;34m]\u001b[0m\u001b[0;34m\u001b[0m\u001b[0m\n\u001b[1;32m   2949\u001b[0m     \u001b[0marray_vals\u001b[0m \u001b[0;34m=\u001b[0m \u001b[0;34m[\u001b[0m\u001b[0;34m]\u001b[0m\u001b[0;34m\u001b[0m\u001b[0m\n",
      "\u001b[0;32m/usr/local/lib/python3.5/dist-packages/tensorflow/python/keras/backend.py\u001b[0m in \u001b[0;36mget_session\u001b[0;34m()\u001b[0m\n\u001b[1;32m    466\u001b[0m     \u001b[0msession\u001b[0m \u001b[0;34m=\u001b[0m \u001b[0m_SESSION\u001b[0m\u001b[0;34m\u001b[0m\u001b[0m\n\u001b[1;32m    467\u001b[0m   \u001b[0;32mif\u001b[0m \u001b[0;32mnot\u001b[0m \u001b[0m_MANUAL_VAR_INIT\u001b[0m\u001b[0;34m:\u001b[0m\u001b[0;34m\u001b[0m\u001b[0m\n\u001b[0;32m--> 468\u001b[0;31m     \u001b[0;32mwith\u001b[0m \u001b[0msession\u001b[0m\u001b[0;34m.\u001b[0m\u001b[0mgraph\u001b[0m\u001b[0;34m.\u001b[0m\u001b[0mas_default\u001b[0m\u001b[0;34m(\u001b[0m\u001b[0;34m)\u001b[0m\u001b[0;34m:\u001b[0m\u001b[0;34m\u001b[0m\u001b[0m\n\u001b[0m\u001b[1;32m    469\u001b[0m       \u001b[0m_initialize_variables\u001b[0m\u001b[0;34m(\u001b[0m\u001b[0msession\u001b[0m\u001b[0;34m)\u001b[0m\u001b[0;34m\u001b[0m\u001b[0m\n\u001b[1;32m    470\u001b[0m   \u001b[0;32mreturn\u001b[0m \u001b[0msession\u001b[0m\u001b[0;34m\u001b[0m\u001b[0m\n",
      "\u001b[0;32m/usr/lib/python3.5/contextlib.py\u001b[0m in \u001b[0;36m__enter__\u001b[0;34m(self)\u001b[0m\n\u001b[1;32m     57\u001b[0m     \u001b[0;32mdef\u001b[0m \u001b[0m__enter__\u001b[0m\u001b[0;34m(\u001b[0m\u001b[0mself\u001b[0m\u001b[0;34m)\u001b[0m\u001b[0;34m:\u001b[0m\u001b[0;34m\u001b[0m\u001b[0m\n\u001b[1;32m     58\u001b[0m         \u001b[0;32mtry\u001b[0m\u001b[0;34m:\u001b[0m\u001b[0;34m\u001b[0m\u001b[0m\n\u001b[0;32m---> 59\u001b[0;31m             \u001b[0;32mreturn\u001b[0m \u001b[0mnext\u001b[0m\u001b[0;34m(\u001b[0m\u001b[0mself\u001b[0m\u001b[0;34m.\u001b[0m\u001b[0mgen\u001b[0m\u001b[0;34m)\u001b[0m\u001b[0;34m\u001b[0m\u001b[0m\n\u001b[0m\u001b[1;32m     60\u001b[0m         \u001b[0;32mexcept\u001b[0m \u001b[0mStopIteration\u001b[0m\u001b[0;34m:\u001b[0m\u001b[0;34m\u001b[0m\u001b[0m\n\u001b[1;32m     61\u001b[0m             \u001b[0;32mraise\u001b[0m \u001b[0mRuntimeError\u001b[0m\u001b[0;34m(\u001b[0m\u001b[0;34m\"generator didn't yield\"\u001b[0m\u001b[0;34m)\u001b[0m \u001b[0;32mfrom\u001b[0m \u001b[0;32mNone\u001b[0m\u001b[0;34m\u001b[0m\u001b[0m\n",
      "\u001b[0;32m/usr/local/lib/python3.5/dist-packages/tensorflow/python/framework/ops.py\u001b[0m in \u001b[0;36mget_controller\u001b[0;34m(self, default)\u001b[0m\n\u001b[1;32m   5226\u001b[0m     \u001b[0;32mtry\u001b[0m\u001b[0;34m:\u001b[0m\u001b[0;34m\u001b[0m\u001b[0m\n\u001b[1;32m   5227\u001b[0m       with super(_DefaultGraphStack, self).get_controller(\n\u001b[0;32m-> 5228\u001b[0;31m           default) as g, context.graph_mode():\n\u001b[0m\u001b[1;32m   5229\u001b[0m         \u001b[0;32myield\u001b[0m \u001b[0mg\u001b[0m\u001b[0;34m\u001b[0m\u001b[0m\n\u001b[1;32m   5230\u001b[0m     \u001b[0;32mfinally\u001b[0m\u001b[0;34m:\u001b[0m\u001b[0;34m\u001b[0m\u001b[0m\n",
      "\u001b[0;32m/usr/local/lib/python3.5/dist-packages/tensorflow/python/eager/context.py\u001b[0m in \u001b[0;36mgraph_mode\u001b[0;34m()\u001b[0m\n\u001b[1;32m    671\u001b[0m \u001b[0;32mdef\u001b[0m \u001b[0mgraph_mode\u001b[0m\u001b[0;34m(\u001b[0m\u001b[0;34m)\u001b[0m\u001b[0;34m:\u001b[0m\u001b[0;34m\u001b[0m\u001b[0m\n\u001b[1;32m    672\u001b[0m   \u001b[0;34m\"\"\"Context-manager to disable eager execution for the current thread.\"\"\"\u001b[0m\u001b[0;34m\u001b[0m\u001b[0m\n\u001b[0;32m--> 673\u001b[0;31m   \u001b[0;32mreturn\u001b[0m \u001b[0mcontext\u001b[0m\u001b[0;34m(\u001b[0m\u001b[0;34m)\u001b[0m\u001b[0;34m.\u001b[0m\u001b[0m_mode\u001b[0m\u001b[0;34m(\u001b[0m\u001b[0mGRAPH_MODE\u001b[0m\u001b[0;34m)\u001b[0m  \u001b[0;31m# pylint: disable=protected-access\u001b[0m\u001b[0;34m\u001b[0m\u001b[0m\n\u001b[0m\u001b[1;32m    674\u001b[0m \u001b[0;34m\u001b[0m\u001b[0m\n\u001b[1;32m    675\u001b[0m \u001b[0;34m\u001b[0m\u001b[0m\n",
      "\u001b[0;32m/usr/lib/python3.5/contextlib.py\u001b[0m in \u001b[0;36mhelper\u001b[0;34m(*args, **kwds)\u001b[0m\n\u001b[1;32m    131\u001b[0m     \u001b[0;34m@\u001b[0m\u001b[0mwraps\u001b[0m\u001b[0;34m(\u001b[0m\u001b[0mfunc\u001b[0m\u001b[0;34m)\u001b[0m\u001b[0;34m\u001b[0m\u001b[0m\n\u001b[1;32m    132\u001b[0m     \u001b[0;32mdef\u001b[0m \u001b[0mhelper\u001b[0m\u001b[0;34m(\u001b[0m\u001b[0;34m*\u001b[0m\u001b[0margs\u001b[0m\u001b[0;34m,\u001b[0m \u001b[0;34m**\u001b[0m\u001b[0mkwds\u001b[0m\u001b[0;34m)\u001b[0m\u001b[0;34m:\u001b[0m\u001b[0;34m\u001b[0m\u001b[0m\n\u001b[0;32m--> 133\u001b[0;31m         \u001b[0;32mreturn\u001b[0m \u001b[0m_GeneratorContextManager\u001b[0m\u001b[0;34m(\u001b[0m\u001b[0mfunc\u001b[0m\u001b[0;34m,\u001b[0m \u001b[0margs\u001b[0m\u001b[0;34m,\u001b[0m \u001b[0mkwds\u001b[0m\u001b[0;34m)\u001b[0m\u001b[0;34m\u001b[0m\u001b[0m\n\u001b[0m\u001b[1;32m    134\u001b[0m     \u001b[0;32mreturn\u001b[0m \u001b[0mhelper\u001b[0m\u001b[0;34m\u001b[0m\u001b[0m\n\u001b[1;32m    135\u001b[0m \u001b[0;34m\u001b[0m\u001b[0m\n",
      "\u001b[0;32m/usr/lib/python3.5/contextlib.py\u001b[0m in \u001b[0;36m__init__\u001b[0;34m(self, func, args, kwds)\u001b[0m\n\u001b[1;32m     37\u001b[0m     \u001b[0;32mdef\u001b[0m \u001b[0m__init__\u001b[0m\u001b[0;34m(\u001b[0m\u001b[0mself\u001b[0m\u001b[0;34m,\u001b[0m \u001b[0mfunc\u001b[0m\u001b[0;34m,\u001b[0m \u001b[0margs\u001b[0m\u001b[0;34m,\u001b[0m \u001b[0mkwds\u001b[0m\u001b[0;34m)\u001b[0m\u001b[0;34m:\u001b[0m\u001b[0;34m\u001b[0m\u001b[0m\n\u001b[1;32m     38\u001b[0m         \u001b[0mself\u001b[0m\u001b[0;34m.\u001b[0m\u001b[0mgen\u001b[0m \u001b[0;34m=\u001b[0m \u001b[0mfunc\u001b[0m\u001b[0;34m(\u001b[0m\u001b[0;34m*\u001b[0m\u001b[0margs\u001b[0m\u001b[0;34m,\u001b[0m \u001b[0;34m**\u001b[0m\u001b[0mkwds\u001b[0m\u001b[0;34m)\u001b[0m\u001b[0;34m\u001b[0m\u001b[0m\n\u001b[0;32m---> 39\u001b[0;31m         \u001b[0mself\u001b[0m\u001b[0;34m.\u001b[0m\u001b[0mfunc\u001b[0m\u001b[0;34m,\u001b[0m \u001b[0mself\u001b[0m\u001b[0;34m.\u001b[0m\u001b[0margs\u001b[0m\u001b[0;34m,\u001b[0m \u001b[0mself\u001b[0m\u001b[0;34m.\u001b[0m\u001b[0mkwds\u001b[0m \u001b[0;34m=\u001b[0m \u001b[0mfunc\u001b[0m\u001b[0;34m,\u001b[0m \u001b[0margs\u001b[0m\u001b[0;34m,\u001b[0m \u001b[0mkwds\u001b[0m\u001b[0;34m\u001b[0m\u001b[0m\n\u001b[0m\u001b[1;32m     40\u001b[0m         \u001b[0;31m# Issue 19330: ensure context manager instances have good docstrings\u001b[0m\u001b[0;34m\u001b[0m\u001b[0;34m\u001b[0m\u001b[0m\n\u001b[1;32m     41\u001b[0m         \u001b[0mdoc\u001b[0m \u001b[0;34m=\u001b[0m \u001b[0mgetattr\u001b[0m\u001b[0;34m(\u001b[0m\u001b[0mfunc\u001b[0m\u001b[0;34m,\u001b[0m \u001b[0;34m\"__doc__\"\u001b[0m\u001b[0;34m,\u001b[0m \u001b[0;32mNone\u001b[0m\u001b[0;34m)\u001b[0m\u001b[0;34m\u001b[0m\u001b[0m\n",
      "\u001b[0;31mKeyboardInterrupt\u001b[0m: "
     ]
    }
   ],
   "source": [
    "from scripts import load_cifar10, train_vgg16, test_vgg16, fcnn_test, hog_features, flatten_features\n",
    "from scripts import vgg16_features, pca_features, resnetV2_features\n",
    "\n",
    "# train and test dir will be saved in DATA_DIR - if already there then it will not reload\n",
    "DATA_DIR = '/opt/data/'\n",
    "\n",
    "# key word arguments for model training\n",
    "kwargs = dict(\n",
    "    batch_size=64, \n",
    "    epochs=250, \n",
    "    learning_rate=0.0001, \n",
    "    momentum=0.9, \n",
    "    image_shape=(32, 32, 3),\n",
    "    lr_decay=1e-6, \n",
    "    lr_drop=20, \n",
    "    extra_aug=False, \n",
    "    paper_layers=False, \n",
    "    all_frozen=False, \n",
    "    decay=False,\n",
    "    allTrainable=True, \n",
    "    model_name='VGG16_lr_0.0001_mom_0.9_xaug_False_gitLayers_True_allFrozen_False_decay_False_allTrain_True.h5'\n",
    ")\n",
    "\n",
    "LABELS = ['airplane', 'automobile', 'bird', 'cat', 'deer', 'dog', 'frog', 'horse', 'ship', 'truck']\n",
    "FEATURES = 'resnet2'  # options: HOG, vgg16, flatten, or pca\n",
    "\n",
    "# ----------------------------------------------------------------------------------------------------- #\n",
    "# ----------------------------------------------------------------------------------------------------- #\n",
    "\n",
    "if __name__ == '__main__':\n",
    "    # load CIFAR10 data\n",
    "    # load_cifar10.run(save_dir=DATA_DIR)\n",
    "\n",
    "    # train vgg16 model\n",
    "    # train_vgg16.run(data_dir=DATA_DIR, **kwargs)\n",
    "        \n",
    "    # test vgg16 model\n",
    "    # test_vgg16.run(DATA_DIR, LABELS, **kwargs)\n",
    "    \n",
    "    # extract vgg16 features\n",
    "    # vgg16_features.run(DATA_DIR, LABELS, **kwargs)\n",
    "\n",
    "    # extract histogram of oriented gradient features\n",
    "    # hog_features.run(DATA_DIR, LABELS)\n",
    "\n",
    "    # extract flatten pixel features\n",
    "    # flatten_features.run(DATA_DIR, LABELS)\n",
    "\n",
    "    # run FCNN tests - FEATURES determines the features to use FCNN on: options are HOG, vgg16 or flatten\n",
    "    output = fcnn_test.run(DATA_DIR, LABELS, FEATURES)\n",
    "    print(max(output.history['val_acc']))\n",
    "    \n",
    "    # run Lasso regression for feature selection on the combination of flatten, HOG, and VGG16 features\n",
    "    # pca_features.run(DATA_DIR)\n",
    "    \n",
    "    # run pre-trained inception resnet v2 model to extract features on CIFAR10 data\n",
    "    # resnetV2_features.run(DATA_DIR, LABELS)"
   ]
  },
  {
   "cell_type": "code",
   "execution_count": 6,
   "metadata": {},
   "outputs": [
    {
     "data": {
      "text/plain": [
       "array([0., 0., 0., ..., 9., 9., 9.])"
      ]
     },
     "execution_count": 6,
     "metadata": {},
     "output_type": "execute_result"
    }
   ],
   "source": [
    "import numpy as np\n",
    "\n",
    "jc = np.load('data/resnet2_train.npy')\n",
    "jc[:, -1]"
   ]
  }
 ],
 "metadata": {
  "kernelspec": {
   "display_name": "Python 3",
   "language": "python",
   "name": "python3"
  },
  "language_info": {
   "codemirror_mode": {
    "name": "ipython",
    "version": 3
   },
   "file_extension": ".py",
   "mimetype": "text/x-python",
   "name": "python",
   "nbconvert_exporter": "python",
   "pygments_lexer": "ipython3",
   "version": "3.5.2"
  }
 },
 "nbformat": 4,
 "nbformat_minor": 2
}
